{
 "cells": [
  {
   "cell_type": "code",
   "execution_count": 3,
   "metadata": {},
   "outputs": [
    {
     "name": "stdout",
     "output_type": "stream",
     "text": [
      "Requirement already satisfied: nasdaq-data-link in ./opt/anaconda3/lib/python3.8/site-packages (1.0.2)\n",
      "Requirement already satisfied: more-itertools in ./opt/anaconda3/lib/python3.8/site-packages (from nasdaq-data-link) (8.6.0)\n",
      "Requirement already satisfied: numpy>=1.8 in ./opt/anaconda3/lib/python3.8/site-packages (from nasdaq-data-link) (1.19.2)\n",
      "Requirement already satisfied: python-dateutil in ./opt/anaconda3/lib/python3.8/site-packages (from nasdaq-data-link) (2.8.1)\n",
      "Requirement already satisfied: pandas>=0.14 in ./opt/anaconda3/lib/python3.8/site-packages (from nasdaq-data-link) (1.1.3)\n",
      "Requirement already satisfied: requests>=2.7.0 in ./opt/anaconda3/lib/python3.8/site-packages (from nasdaq-data-link) (2.24.0)\n",
      "Requirement already satisfied: six in ./opt/anaconda3/lib/python3.8/site-packages (from nasdaq-data-link) (1.15.0)\n",
      "Requirement already satisfied: inflection>=0.3.1 in ./opt/anaconda3/lib/python3.8/site-packages (from nasdaq-data-link) (0.5.1)\n",
      "Requirement already satisfied: pytz>=2017.2 in ./opt/anaconda3/lib/python3.8/site-packages (from pandas>=0.14->nasdaq-data-link) (2020.1)\n",
      "Requirement already satisfied: idna<3,>=2.5 in ./opt/anaconda3/lib/python3.8/site-packages (from requests>=2.7.0->nasdaq-data-link) (2.10)\n",
      "Requirement already satisfied: urllib3!=1.25.0,!=1.25.1,<1.26,>=1.21.1 in ./opt/anaconda3/lib/python3.8/site-packages (from requests>=2.7.0->nasdaq-data-link) (1.25.11)\n",
      "Requirement already satisfied: certifi>=2017.4.17 in ./opt/anaconda3/lib/python3.8/site-packages (from requests>=2.7.0->nasdaq-data-link) (2020.6.20)\n",
      "Requirement already satisfied: chardet<4,>=3.0.2 in ./opt/anaconda3/lib/python3.8/site-packages (from requests>=2.7.0->nasdaq-data-link) (3.0.4)\n",
      "Note: you may need to restart the kernel to use updated packages.\n"
     ]
    }
   ],
   "source": [
    "pip install nasdaq-data-link"
   ]
  },
  {
   "cell_type": "code",
   "execution_count": 4,
   "metadata": {},
   "outputs": [
    {
     "name": "stdout",
     "output_type": "stream",
     "text": [
      "Requirement already satisfied: quandl in ./opt/anaconda3/lib/python3.8/site-packages (3.7.0)\n",
      "Requirement already satisfied: more-itertools in ./opt/anaconda3/lib/python3.8/site-packages (from quandl) (8.6.0)\n",
      "Requirement already satisfied: numpy>=1.8 in ./opt/anaconda3/lib/python3.8/site-packages (from quandl) (1.19.2)\n",
      "Requirement already satisfied: pandas>=0.14 in ./opt/anaconda3/lib/python3.8/site-packages (from quandl) (1.1.3)\n",
      "Requirement already satisfied: six in ./opt/anaconda3/lib/python3.8/site-packages (from quandl) (1.15.0)\n",
      "Requirement already satisfied: inflection>=0.3.1 in ./opt/anaconda3/lib/python3.8/site-packages (from quandl) (0.5.1)\n",
      "Requirement already satisfied: requests>=2.7.0 in ./opt/anaconda3/lib/python3.8/site-packages (from quandl) (2.24.0)\n",
      "Requirement already satisfied: python-dateutil in ./opt/anaconda3/lib/python3.8/site-packages (from quandl) (2.8.1)\n",
      "Requirement already satisfied: pytz>=2017.2 in ./opt/anaconda3/lib/python3.8/site-packages (from pandas>=0.14->quandl) (2020.1)\n",
      "Requirement already satisfied: idna<3,>=2.5 in ./opt/anaconda3/lib/python3.8/site-packages (from requests>=2.7.0->quandl) (2.10)\n",
      "Requirement already satisfied: urllib3!=1.25.0,!=1.25.1,<1.26,>=1.21.1 in ./opt/anaconda3/lib/python3.8/site-packages (from requests>=2.7.0->quandl) (1.25.11)\n",
      "Requirement already satisfied: chardet<4,>=3.0.2 in ./opt/anaconda3/lib/python3.8/site-packages (from requests>=2.7.0->quandl) (3.0.4)\n",
      "Requirement already satisfied: certifi>=2017.4.17 in ./opt/anaconda3/lib/python3.8/site-packages (from requests>=2.7.0->quandl) (2020.6.20)\n",
      "Note: you may need to restart the kernel to use updated packages.\n"
     ]
    }
   ],
   "source": [
    "pip install quandl"
   ]
  },
  {
   "cell_type": "code",
   "execution_count": 5,
   "metadata": {},
   "outputs": [
    {
     "name": "stdout",
     "output_type": "stream",
     "text": [
      "Requirement already satisfied: pandas in ./opt/anaconda3/lib/python3.8/site-packages (1.1.3)\n",
      "Requirement already satisfied: python-dateutil>=2.7.3 in ./opt/anaconda3/lib/python3.8/site-packages (from pandas) (2.8.1)\n",
      "Requirement already satisfied: numpy>=1.15.4 in ./opt/anaconda3/lib/python3.8/site-packages (from pandas) (1.19.2)\n",
      "Requirement already satisfied: pytz>=2017.2 in ./opt/anaconda3/lib/python3.8/site-packages (from pandas) (2020.1)\n",
      "Requirement already satisfied: six>=1.5 in ./opt/anaconda3/lib/python3.8/site-packages (from python-dateutil>=2.7.3->pandas) (1.15.0)\n",
      "Note: you may need to restart the kernel to use updated packages.\n"
     ]
    }
   ],
   "source": [
    "pip install pandas"
   ]
  },
  {
   "cell_type": "code",
   "execution_count": 6,
   "metadata": {},
   "outputs": [
    {
     "name": "stdout",
     "output_type": "stream",
     "text": [
      "Requirement already satisfied: openpyxl in ./opt/anaconda3/lib/python3.8/site-packages (3.0.5)\n",
      "Requirement already satisfied: et-xmlfile in ./opt/anaconda3/lib/python3.8/site-packages (from openpyxl) (1.0.1)\n",
      "Requirement already satisfied: jdcal in ./opt/anaconda3/lib/python3.8/site-packages (from openpyxl) (1.4.1)\n",
      "Note: you may need to restart the kernel to use updated packages.\n"
     ]
    }
   ],
   "source": [
    "pip install openpyxl"
   ]
  },
  {
   "cell_type": "code",
   "execution_count": 7,
   "metadata": {},
   "outputs": [],
   "source": [
    "import nasdaqdatalink\n",
    "import quandl\n",
    "import pandas as pd\n",
    "from datetime import datetime\n",
    "import openpyxl"
   ]
  },
  {
   "cell_type": "code",
   "execution_count": 8,
   "metadata": {},
   "outputs": [],
   "source": [
    "NASDAQ_DATA_LINK_API_KEY = 'fVDskXQPgQ5491KJys_n'\n",
    "quandl.ApiConfig.api_key = 'fVDskXQPgQ5491KJys_n'"
   ]
  },
  {
   "cell_type": "code",
   "execution_count": 9,
   "metadata": {},
   "outputs": [],
   "source": [
    "from openpyxl import load_workbook"
   ]
  },
  {
   "cell_type": "code",
   "execution_count": 10,
   "metadata": {},
   "outputs": [],
   "source": [
    "def auto_program(ticker, file_name, your_name):\n",
    "    import openpyxl\n",
    "    wb = load_workbook('/Users/saranshpuri/Downloads/' + file_name+ '.xlsx')\n",
    "    if 'Annual' in wb.sheetnames:\n",
    "        wb.remove(wb['Annual'])\n",
    "        wb.save('/Users/saranshpuri/Downloads/' + file_name + '.xlsx')\n",
    "    if 'Header' in wb.sheetnames:\n",
    "        wb.remove(wb['Header'])\n",
    "        wb.save('/Users/saranshpuri/Downloads/' + file_name + '.xlsx')\n",
    "    if 'Quarterly' in wb.sheetnames:\n",
    "        wb.remove(wb['Quarterly'])\n",
    "        wb.save('/Users/saranshpuri/Downloads/' + file_name + '.xlsx')\n",
    "    if 'Annual Compareable1' in wb.sheetnames:\n",
    "        wb.remove(wb['Annual Compareable1'])\n",
    "        wb.save('/Users/saranshpuri/Downloads/' + file_name + '.xlsx')\n",
    "    if 'Annual Compareable2' in wb.sheetnames:\n",
    "        wb.remove(wb['Annual Compareable2'])\n",
    "        wb.save('/Users/saranshpuri/Downloads/' + file_name + '.xlsx')\n",
    "    if 'Annual Compareable3' in wb.sheetnames:\n",
    "        wb.remove(wb['Annual Compareable3'])\n",
    "        wb.save('/Users/saranshpuri/Downloads/' + file_name + '.xlsx')\n",
    "    if 'Annual Compareable4' in wb.sheetnames:\n",
    "        wb.remove(wb['Annual Compareable4'])\n",
    "        wb.save('/Users/saranshpuri/Downloads/' + file_name + '.xlsx')\n",
    "    if 'Annual Compareable5' in wb.sheetnames:\n",
    "        wb.remove(wb['Annual Compareable5'])\n",
    "        wb.save('/Users/saranshpuri/Downloads/' + file_name + '.xlsx')\n",
    "       \n",
    "    \n",
    "    def add_compare(ticker, file_name):\n",
    "        ticker_up = ticker.upper()\n",
    "        filter_set = quandl.get_table('SHARADAR/TICKERS', table='SF1')\n",
    "        to_compare = quandl.get_table('SHARADAR/TICKERS', ticker = ticker, table='SF1').replace(['1 - Nano', '2 - Micro', '3 - Small', '4 - Mid','5 - Large','6 - Mega'], [1, 2, 3, 4, 5, 6])\n",
    "        type_filter = filter_set.loc[(filter_set['sector'] == to_compare['sector'][0]) & (filter_set['industry'] == to_compare['industry'][0])]\n",
    "        data_set_final = type_filter.replace(['1 - Nano', '2 - Micro', '3 - Small', '4 - Mid','5 - Large','6 - Mega'], [1, 2, 3, 4, 5, 6]).set_index('ticker')\n",
    "        if to_compare['scalemarketcap'][0] == 1:\n",
    "            filter1 = data_set_final.loc[(data_set_final['scalemarketcap']<=3)]\n",
    "        elif to_compare['scalemarketcap'][0] == 2:\n",
    "            filter1 = data_set_final.loc[(data_set_final['scalemarketcap']<=3 )]\n",
    "        elif to_compare['scalemarketcap'][0] == 3:\n",
    "            filter1 = data_set_final.loc[(data_set_final['scalemarketcap'] >= 2) & (data_set_final['scalemarketcap'] <= 4)]\n",
    "        elif to_compare['scalemarketcap'][0] == 4:\n",
    "            filter1 = data_set_final.loc[(data_set_final['scalemarketcap'] >= 3) & (data_set_final['scalemarketcap'] <= 5)]\n",
    "        elif to_compare['scalemarketcap'][0] == 5:\n",
    "            filter1 = data_set_final.loc[(data_set_final['scalemarketcap'] >= 4) & (data_set_final['scalemarketcap'] <= 6)]\n",
    "        elif to_compare['scalemarketcap'][0] == 6:\n",
    "            filter1 = data_set_final.loc[(data_set_final['scalemarketcap']>=4)]\n",
    "        filter_out = filter1.loc[filter1['lastpricedate'] == to_compare['lastpricedate'][0]]\n",
    "        list_companies = filter_out.index.tolist()\n",
    "        if ticker_up in list_companies:\n",
    "            list_companies.remove(ticker_up)\n",
    "        final_list1 = list_companies[0:5]\n",
    "        return final_list1\n",
    "    final_list2 =  add_compare(ticker, file_name)\n",
    "\n",
    "    \n",
    "    ticker_df = ticker.upper()\n",
    "    company_name = quandl.get_table('SHARADAR/TICKERS', ticker=ticker, table='SF1')['name'][0]\n",
    "    today = datetime.today().strftime('%Y-%m-%d')\n",
    "    header = {'label': ['Company Name', 'Ticker Symbol', 'Created By', 'Last Retrieved'],\n",
    "        'value': [company_name, ticker_df, your_name, today]}\n",
    "    header_df = pd.DataFrame(header)\n",
    "    initial_quarterly = quandl.get_table('SHARADAR/SF1',dimension='ARQ', ticker=ticker)\n",
    "    initial_quarterly['calendardate'] = pd.to_datetime(initial_quarterly['calendardate'])\n",
    "    ordered_quarterly = initial_quarterly.sort_values(by='calendardate', ascending = True)\n",
    "    initial_annual = quandl.get_table('SHARADAR/SF1',dimension='MRY', ticker=ticker)\n",
    "    initial_annual['calendardate'] = pd.to_datetime(initial_annual['calendardate'])\n",
    "    ordered_annual = initial_annual.sort_values(by='calendardate', ascending = True)\n",
    "    \n",
    "    book = load_workbook('/Users/saranshpuri/Downloads/' + file_name + '.xlsx')\n",
    "    writer = pd.ExcelWriter(file_name+'.xlsx', engine='openpyxl')\n",
    "    writer.book = book\n",
    "    \n",
    "    for i in range(len(final_list2)):\n",
    "        if 'Annual Compareable' + str(i) in wb.sheetnames:\n",
    "            wb.remove(wb['Annual Compareable' + str(i)])\n",
    "        wb.save('/Users/saranshpuri/Downloads/' + file_name + '.xlsx')\n",
    "        initial_annual_c = quandl.get_table('SHARADAR/SF1',dimension='MRY', ticker=final_list2[i])\n",
    "        initial_annual_c['calendardate'] = pd.to_datetime(initial_annual_c['calendardate'])\n",
    "        ordered_annual_c = initial_annual_c.sort_values(by=['calendardate'], ascending = True)\\\n",
    "        [['calendardate','ticker','revenue','ebitda', 'ebit', 'debt', 'roa', 'roe', 'price', 'marketcap', 'ev', 'equity']]\n",
    "        fixed_annual_c = ordered_annual_c.swapaxes('index', 'columns', copy=True)\n",
    "        idx_c = [2] + [i for i in range(len(fixed_annual_c)) if i != 2]\n",
    "        annual_pd_c = fixed_annual_c.iloc[idx_c]\n",
    "        fixed_annual_c.to_excel(writer,sheet_name='Annual Compareable' + str(i+1), index = True,header= False)\n",
    "    fixed_quarterly = ordered_quarterly.drop(['assetsavg'], axis=1)\\\n",
    "        .swapaxes('index', 'columns', copy=True)\n",
    "    idx = [2] + [i for i in range(len(fixed_quarterly)) if i != 2]\n",
    "    fixed_annual = ordered_annual.drop(['assetsavg'], axis=1)\\\n",
    "        .swapaxes('index', 'columns', copy=True)\n",
    "    idx = [2] + [i for i in range(len(fixed_annual)) if i != 2]\n",
    "    \n",
    "    \n",
    "    annual_pd = fixed_annual.iloc[idx]\n",
    "    quarterly_pd = fixed_quarterly.iloc[idx]\n",
    "    # '/Users/saranshpuri/Downloads/' is a specific local path to file, will need to change for others\n",
    "    header_df.to_excel(writer,sheet_name='Header', index = False,header= False)\n",
    "    annual_pd.to_excel(writer,sheet_name='Annual', index = True,header= False)\n",
    "    quarterly_pd.to_excel(writer,sheet_name='Quarterly', index = True,header= False)\n",
    "    writer.save()"
   ]
  },
  {
   "cell_type": "code",
   "execution_count": null,
   "metadata": {},
   "outputs": [
    {
     "name": "stderr",
     "output_type": "stream",
     "text": [
      "/Users/saranshpuri/opt/anaconda3/lib/python3.8/site-packages/quandl/get_table.py:38: UserWarning: To request more pages, please set paginate=True in your         quandl.get_table() call. For more information see our documentation:         https://github.com/quandl/quandl-python/blob/master/FOR_ANALYSTS.md#things-to-note\n",
      "  warnings.warn(Message.WARN_PAGE_LIMIT_EXCEEDED, UserWarning)\n"
     ]
    }
   ],
   "source": [
    "# Replace 'aapl' with choosen ticker, and 'basefileofficial' with the name of the exisitng excel file.\n",
    "auto_program('amzn','26.7.','Saransh')"
   ]
  },
  {
   "cell_type": "code",
   "execution_count": null,
   "metadata": {},
   "outputs": [],
   "source": []
  }
 ],
 "metadata": {
  "kernelspec": {
   "display_name": "Python 3",
   "language": "python",
   "name": "python3"
  },
  "language_info": {
   "codemirror_mode": {
    "name": "ipython",
    "version": 3
   },
   "file_extension": ".py",
   "mimetype": "text/x-python",
   "name": "python",
   "nbconvert_exporter": "python",
   "pygments_lexer": "ipython3",
   "version": "3.8.5"
  }
 },
 "nbformat": 4,
 "nbformat_minor": 4
}
